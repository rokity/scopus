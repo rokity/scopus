{
 "cells": [
  {
   "cell_type": "code",
   "execution_count": 12,
   "metadata": {},
   "outputs": [],
   "source": [
    "import json \n",
    "import pandas as pd\n",
    "data = open('combination.json',) \n",
    "# df= pd.read_csv('queries.csv')\n",
    "data=json.load(data)\n",
    "combinations=[]\n",
    "for filter in data['filter']:\n",
    "    for management in data['management']:\n",
    "        for iot in data['iot']:\n",
    "            combinations.append({\"filter\":filter,\"management\":management,\"iot\":iot,\"result\":\"\"})\n",
    "df = pd.DataFrame(combinations, columns=['filter', 'management', 'iot','result'])\n",
    "df.to_csv('queries.csv', index=False)  "
   ]
  }
 ],
 "metadata": {
  "kernelspec": {
   "display_name": "Python 3",
   "language": "python",
   "name": "python3"
  },
  "language_info": {
   "codemirror_mode": {
    "name": "ipython",
    "version": 3
   },
   "file_extension": ".py",
   "mimetype": "text/x-python",
   "name": "python",
   "nbconvert_exporter": "python",
   "pygments_lexer": "ipython3",
   "version": "3.8.3-final"
  }
 },
 "nbformat": 4,
 "nbformat_minor": 4
}