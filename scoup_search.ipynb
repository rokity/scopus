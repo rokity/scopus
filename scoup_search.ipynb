{
 "cells": [
  {
   "cell_type": "code",
   "execution_count": 1,
   "metadata": {},
   "outputs": [],
   "source": [
    "import requests\n",
    "import json\n",
    "import os\n",
    "import csv\n",
    "import pandas as pd\n",
    "MY_API_KEY=''\n",
    "path_file=\"queries.csv\"\n",
    "\n",
    "def write_data(new_data):\n",
    "    with open('data.json','r') as json_file: \n",
    "        if(os.stat(\"data.json\").st_size !=0):\n",
    "            data_json = json.load(json_file)\n",
    "            data_json.append(new_data[\"search-results\"][\"entry\"])\n",
    "        else:\n",
    "            data_json=new_data[\"search-results\"][\"entry\"]    \n",
    "    with open('data.json', 'w') as outfile:\n",
    "        json.dump(data_json, outfile)\n",
    "\n",
    "def get_chunk(key,start,count='25',date='2010-2020'):\n",
    "    resp = requests.get(f\"https://api.elsevier.com/content/search/scopus?query={key}&start={start}&count={count}&date={date}\",\n",
    "                    headers={'Accept':'application/json',\n",
    "                             'X-ELS-APIKey': MY_API_KEY})\n",
    "    data=json.loads(resp.text.encode('utf-8'))\n",
    "    return data\n",
    "\n",
    "def get_queries(path_file):\n",
    "    df=pd.read_csv(path_file)\n",
    "    return df.to_dict(orient='records')\n",
    "\n",
    "def compose_query(fields_query):\n",
    "    if('management' in fields_query and 'iot' in fields_query):\n",
    "        query=f\"{fields_query['filter']}%28{fields_query['management']}+AND+{fields_query['iot']}%29\"\n",
    "    elif('management' in fields_query and 'iot' not in fields_query):\n",
    "        query=f\"{fields_query['filter']}%28{fields_query['management']}%29\"\n",
    "    elif('management' not in fields_query and 'iot' in fields_query):\n",
    "        query=f\"{fields_query['filter']}%28{fields_query['iot']}%29\"\n",
    "    return query\n",
    "\n",
    "def write_result(path_file,fields_query,result):\n",
    "    df=pd.read_csv(path_file)\n",
    "    df.loc[(df['filter'] == fields_query['filter']) & (df['management']==fields_query['management']) & \n",
    "              (df['iot']==fields_query['iot']),'result']=result\n",
    "\n",
    "    df.to_csv(path_file,index=False,)\n",
    "    \n",
    "def main():        \n",
    "        queries=get_queries(path_file)\n",
    "        for query in queries:\n",
    "            composed_query=compose_query(query)\n",
    "            data=get_chunk(composed_query,start=0,count=25)\n",
    "            total_results=int(data['search-results']['opensearch:totalResults'])\n",
    "            write_result(path_file,query,total_results)\n",
    "        #data=get_chunk(\"TITLE%28management+AND+smart+production%29\",start=0,count=25)\n",
    "        #print(data)\n",
    "        #total_results=int(data['search-results']['opensearch:totalResults'])\n",
    "        #print(f'total results {total_results}')\n",
    "        #i=25\n",
    "        #write_data(data)\n",
    "        #while(i<total_results):\n",
    "         #   data=get_chunk(\"KEY%28industry+4.0%29\",start=i)\n",
    "         #   write_data(data)\n",
    "         #   print(i)\n",
    "         #   i=i+25\n",
    "            \n",
    "\n",
    "if __name__ == \"__main__\":\n",
    "    main()\n",
    "\n"
   ]
  },
  {
   "cell_type": "code",
   "execution_count": 131,
   "metadata": {},
   "outputs": [
    {
     "data": {
      "text/plain": [
       "356137"
      ]
     },
     "execution_count": 131,
     "metadata": {},
     "output_type": "execute_result"
    }
   ],
   "source": [
    "188584+167553"
   ]
  },
  {
   "cell_type": "code",
   "execution_count": null,
   "metadata": {},
   "outputs": [],
   "source": []
  },
  {
   "cell_type": "code",
   "execution_count": null,
   "metadata": {},
   "outputs": [],
   "source": []
  }
 ],
 "metadata": {
  "kernelspec": {
   "display_name": "Python 3",
   "language": "python",
   "name": "python3"
  },
  "language_info": {
   "codemirror_mode": {
    "name": "ipython",
    "version": 3
   },
   "file_extension": ".py",
   "mimetype": "text/x-python",
   "name": "python",
   "nbconvert_exporter": "python",
   "pygments_lexer": "ipython3",
   "version": "3.8.3-final"
  }
 },
 "nbformat": 4,
 "nbformat_minor": 4
}