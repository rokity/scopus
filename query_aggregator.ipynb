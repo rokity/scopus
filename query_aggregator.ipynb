{
 "metadata": {
  "language_info": {
   "codemirror_mode": {
    "name": "ipython",
    "version": 3
   },
   "file_extension": ".py",
   "mimetype": "text/x-python",
   "name": "python",
   "nbconvert_exporter": "python",
   "pygments_lexer": "ipython3",
   "version": "3.8.5-final"
  },
  "orig_nbformat": 2,
  "kernelspec": {
   "name": "python3",
   "display_name": "Python 3"
  }
 },
 "nbformat": 4,
 "nbformat_minor": 2,
 "cells": [
  {
   "cell_type": "code",
   "execution_count": 23,
   "metadata": {},
   "outputs": [
    {
     "output_type": "stream",
     "name": "stdout",
     "text": [
      "18\n"
     ]
    }
   ],
   "source": [
    "import pandas as pd\n",
    "df=pd.read_csv('queries.csv')\n",
    "titles=df[df[\"filter\"]==\"TITLE\"].to_dict(orient='records')\n",
    "queries=[]\n",
    "for title in titles:\n",
    "    total=df.loc[(df['management']==title['management']) & (df['iot']==title['iot'])]['result'].sum()\n",
    "    if(total>=200):\n",
    "        queries.append({\"query\":title['management']+\" AND \"+title['iot'],\"result\":total})\n",
    "print(len(queries))\n",
    "queries=pd.DataFrame(queries)\n",
    "queries.to_csv('queries_aggregated.csv', index=False)  "
   ]
  },
  {
   "cell_type": "code",
   "execution_count": null,
   "metadata": {},
   "outputs": [],
   "source": []
  }
 ]
}